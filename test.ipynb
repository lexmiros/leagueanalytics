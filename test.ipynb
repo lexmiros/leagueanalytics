{
 "cells": [
  {
   "cell_type": "code",
   "execution_count": 9,
   "metadata": {},
   "outputs": [],
   "source": [
    "\n",
    "from riotwatcher import LolWatcher, ApiError\n",
    "import pandas as pd\n",
    "import time\n",
    "\n",
    "try:\n",
    "    api_key = 'RGAPI-37c3cc3a-7247-4626-b5b6-693a609a76af'\n",
    "    watcher = LolWatcher(api_key)\n",
    "    my_region = 'OC1'\n",
    "except:\n",
    "    print(\"OHH\")\n",
    "\n"
   ]
  },
  {
   "cell_type": "code",
   "execution_count": 44,
   "metadata": {},
   "outputs": [],
   "source": [
    "\n",
    "\n",
    "\"\"\"\n",
    "Return the user accountID for the given username and region\n",
    "\"\"\"\n",
    "def get_account_id(user, region):\n",
    "    account_ID = watcher.summoner.by_name(region, user)\n",
    "    account_ID = account_ID['accountId']\n",
    "    return account_ID\n",
    "\n",
    "\"\"\"\n",
    "Return the user puuId for the given username and region\n",
    "\"\"\"\n",
    "def get_puuid(user, region):\n",
    "    puuid = watcher.summoner.by_name(region, user)\n",
    "    puuid = puuid[\"puuid\"]\n",
    "    return puuid\n",
    "\n",
    "\"\"\"\n",
    "Return the user ID for the given username and region\n",
    "\"\"\"\n",
    "def get_id(user, region):\n",
    "    id = watcher.summoner.by_name(region, user)\n",
    "    id = id[\"id\"]\n",
    "    return id\n",
    "\n",
    "\"\"\"\n",
    "Get the account summary information for the user\n",
    "\"\"\"\n",
    "def get_account_info(user, region):\n",
    "    id = get_id(user, region)\n",
    "    ranked_info = watcher.league.by_summoner(region, id)\n",
    "    return(ranked_info)\n",
    "\n",
    "\"\"\"\n",
    "Get a list of match IDs for the match hisotry of the user and region\n",
    "\"\"\"\n",
    "def get_match_history(user, region):\n",
    "    puiid = get_puuid(user, region)\n",
    "    my_match_ids = watcher.match.matchlist_by_puuid(region,puiid, count=100)\n",
    "    return my_match_ids\n",
    "\"\"\"\n",
    "Get a list of match IDs for the match hisotry of the user and region given a specific start-point\n",
    "\"\"\"\n",
    "def get_match_history_start(user, region, start_index):\n",
    "    puiid = get_puuid(user, region)\n",
    "    my_match_ids = watcher.match.matchlist_by_puuid(region,puiid, start=0,  count=100)\n",
    "    return my_match_ids\n",
    "\n",
    "\"\"\"\n",
    "Get a match ID for the last match played for the user and region\n",
    "\"\"\"\n",
    "def get_last_match_history(user, region):\n",
    "    match_id = get_match_history(user,region)\n",
    "    return match_id[0]\n",
    "\n",
    "\"\"\"\n",
    "Get a match ID for the first match played for the user and region that is available\n",
    "\"\"\"\n",
    "def get_first_match_history(user, region):\n",
    "    match_id = get_match_history(user,region)\n",
    "    return match_id[-1]\n",
    "\n",
    "\n",
    "\"\"\"\n",
    "Get a timestamp for a match\n",
    "Input : matchID, region\n",
    "Outstamp: Timestamp epoch time\n",
    "\"\"\"\n",
    "\n",
    "\n",
    "\n",
    "\n",
    "\"\"\"\n",
    "Given a user and a region, returns a dataframe filled with information for the given users games\n",
    "\"\"\"\n",
    "def get_match_details(user, region):\n",
    "    #Gets a list of match_ids \n",
    "    i = 0\n",
    "    #Creates an empty list to populate with dictionaries\n",
    "    #Each element of the list will be one game\n",
    "    participants = []\n",
    "\n",
    "\n",
    "    while i < 500:\n",
    "        \n",
    "        match_ids = get_match_history_start(user, region, start_index=i)\n",
    "        if match_ids == []:\n",
    "            print(\"Found all matches\")\n",
    "            break\n",
    "        else:\n",
    "            #For each match ID in the list of match_ids\n",
    "            for id in match_ids:    \n",
    "                #Gets the information for the match\n",
    "                match_detail = watcher.match.by_id(my_region, id)\n",
    "                #For each participant in the match\n",
    "                for row in match_detail['info']['participants']:\n",
    "                    #If the participant is the user, create a dictionary and populate\n",
    "                    if row['summonerName'] == user:\n",
    "                        participants_row = {}\n",
    "                        participants_row['SummonerName'] = row['summonerName']\n",
    "                        participants_row['WinLoss']    = row['win']\n",
    "                        participants_row['Lane'] = row['individualPosition']\n",
    "                        participants_row['Champion'] = row['championName']\n",
    "                        participants_row['SummonerSpell1'] = row['summoner1Id']\n",
    "                        participants_row['Spell1Casts'] = row['summoner1Casts']\n",
    "                        participants_row['SummonerSpell2'] = row['summoner2Id']\n",
    "                        participants_row['Spell2Casts'] = row['summoner2Casts']\n",
    "                        participants_row['Q casts'] = row['spell1Casts']\n",
    "                        participants_row['W casts'] = row['spell2Casts']\n",
    "                        participants_row['E casts'] = row['spell3Casts']\n",
    "                        participants_row['R casts'] = row['spell4Casts']\n",
    "                        participants_row['ChampLevel'] = row['champLevel']\n",
    "                        participants_row['CS']    = row['totalMinionsKilled']\n",
    "                        participants_row['Kills']    = row['kills']\n",
    "                        participants_row['Deaths']    = row['deaths']\n",
    "                        participants_row['Assists']    = row['assists']\n",
    "                        participants_row['Exp']    = row['champExperience']\n",
    "                        participants_row['Damage'] = row['totalDamageDealtToChampions']\n",
    "                        participants_row['TotalDamageTaken'] = row['totalDamageTaken']\n",
    "                        participants_row['WardsPlace']    = row['wardsPlaced']\n",
    "                        participants_row['WardsKilled']    = row['wardsKilled']\n",
    "\n",
    "                        #Append the dictionary to the list\n",
    "                        participants.append(participants_row)\n",
    "            time.sleep(2)\n",
    "            i = i + 100\n",
    "        #Create a dataframe from the list of dictionaries             \n",
    "    df = pd.DataFrame(participants)\n",
    "\n",
    "    return df\n"
   ]
  },
  {
   "cell_type": "code",
   "execution_count": 45,
   "metadata": {},
   "outputs": [
    {
     "name": "stdout",
     "output_type": "stream",
     "text": [
      "break\n",
      "Empty DataFrame\n",
      "Columns: []\n",
      "Index: []\n"
     ]
    }
   ],
   "source": [
    "user = \"Bucukaqi\"\n",
    "region = my_region\n",
    "\n",
    "df = get_match_details(user, region)\n",
    "print(df)"
   ]
  },
  {
   "cell_type": "code",
   "execution_count": 39,
   "metadata": {},
   "outputs": [
    {
     "name": "stdout",
     "output_type": "stream",
     "text": [
      "[]\n"
     ]
    },
    {
     "data": {
      "text/plain": [
       "True"
      ]
     },
     "execution_count": 39,
     "metadata": {},
     "output_type": "execute_result"
    }
   ],
   "source": [
    "x = get_match_history_start(user, region,0)\n",
    "print(x)\n",
    "x == []"
   ]
  }
 ],
 "metadata": {
  "interpreter": {
   "hash": "c5169f2c4323a288b7665b5d382adf1d01a00a00e1a48f471f43ca8c095910df"
  },
  "kernelspec": {
   "display_name": "Python 3.9.2 64-bit",
   "language": "python",
   "name": "python3"
  },
  "language_info": {
   "codemirror_mode": {
    "name": "ipython",
    "version": 3
   },
   "file_extension": ".py",
   "mimetype": "text/x-python",
   "name": "python",
   "nbconvert_exporter": "python",
   "pygments_lexer": "ipython3",
   "version": "3.9.2"
  },
  "orig_nbformat": 4
 },
 "nbformat": 4,
 "nbformat_minor": 2
}
